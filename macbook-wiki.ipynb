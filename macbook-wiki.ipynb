{
 "cells": [
  {
   "cell_type": "code",
   "execution_count": 1,
   "metadata": {},
   "outputs": [],
   "source": [
    "#STEP1: import and install all necessary libraries\n",
    "import pandas as pd\n",
    "import urllib\n",
    "from html.parser import HTMLParser\n",
    "from bs4 import BeautifulSoup\n",
    "import requests\n",
    "import xlsxwriter"
   ]
  },
  {
   "cell_type": "code",
   "execution_count": 5,
   "metadata": {},
   "outputs": [],
   "source": [
    "makelist = [line.rstrip('\\n') for line in open('statsproject.txt')] #turn file into a list"
   ]
  },
  {
   "cell_type": "code",
   "execution_count": 8,
   "metadata": {},
   "outputs": [
    {
     "data": {
      "text/plain": [
       "['Denmark\\t88\\t0\\teurope\\twestern europe',\n",
       " 'New Zealand\\t88\\t2\\toceania\\toceania',\n",
       " 'Finland\\t85\\t7\\teurope\\twestern europe',\n",
       " 'Singapore\\t85\\t6\\tasia\\tsouth east asia',\n",
       " 'Sweden\\t85\\t0\\teurope\\twestern europe',\n",
       " 'Switzerland\\t85\\t1\\teurope\\twestern europe',\n",
       " 'Norway\\t84\\t5\\teurope\\twestern europe',\n",
       " 'Netherlands\\t82\\t1\\teurope\\twestern europe',\n",
       " 'Germany\\t80\\t3\\teurope\\twestern europe',\n",
       " 'Luxembourg\\t80\\t0\\teurope\\twestern europe',\n",
       " 'Australia\\t77\\t1\\toceania\\toceania',\n",
       " 'United Kingdom\\t77\\t0\\teurope\\twestern europe',\n",
       " 'Austria\\t76\\t0\\teurope\\twestern europe',\n",
       " 'Belgium\\t76\\t1\\teurope\\twestern europe',\n",
       " 'Estonia\\t75\\t3\\teurope\\teastern europe',\n",
       " 'Iceland\\t75\\t1\\teurope\\twestern europe',\n",
       " 'Japan\\t74\\t0\\tasia\\teast asia',\n",
       " 'United Arab Emirates\\t71\\t0\\tasia\\tmiddleast',\n",
       " 'Uruguay\\t71\\t2\\tsouth america\\tlatin america',\n",
       " 'France\\t69\\t2\\teurope\\twestern europe',\n",
       " 'Bhutan\\t68\\t1\\tasia\\tsouthern asia',\n",
       " 'Chile\\t67\\t4\\tsouth america\\tlatin america',\n",
       " 'United States\\t67\\t4\\tnorth america\\tNorth America',\n",
       " 'Seychelles\\t66\\t1\\tafrica\\tsubsaharan africa',\n",
       " 'Taiwan\\t65\\t3\\tasia\\teast asia',\n",
       " 'Barbados\\t64\\t1\\tnorth america\\tcaribbean',\n",
       " 'Qatar\\t63\\t1\\tasia\\tmiddleast',\n",
       " 'Spain\\t62\\t2\\teurope\\twestern europe',\n",
       " 'South Korea\\t61\\t5\\tasia\\teast asia',\n",
       " 'Portugal\\t61\\t0\\teurope\\twestern europe',\n",
       " 'Botswana\\t60\\t2\\tafrica\\tsubsaharan africa',\n",
       " 'Israel\\t60\\t0\\tasia\\tmiddleast',\n",
       " 'Lithuania\\t60\\t5\\teurope\\teastern europe',\n",
       " 'Costa Rica\\t57\\t1\\tnorth america\\tlatin america',\n",
       " 'Cyprus\\t57\\t1\\teurope\\tmiddleast',\n",
       " 'Latvia\\t57\\t1\\teurope\\teastern europe',\n",
       " 'Georgia\\t56\\t0\\teurope\\tmiddleast',\n",
       " 'Saint Vincent and the Grenadines\\t59\\t0\\tnorth america\\tcaribbean',\n",
       " 'Poland\\t56\\t2\\teurope\\teastern europe',\n",
       " 'Saint Lucia\\t56\\t1\\tN/A\\tcaribbean',\n",
       " 'Dominica\\t55\\t1\\tnorth america\\tNorth America',\n",
       " 'Oman\\t54\\t3\\tasia\\tmiddleast',\n",
       " 'Rwanda\\t54\\t4\\tafrica\\tsubsaharan africa',\n",
       " 'Grenada\\t53\\t0\\tnorth america\\tcaribbean',\n",
       " 'Italy\\t53\\t3\\teurope\\twestern europe',\n",
       " 'Malta\\t53\\t0\\teurope\\twestern europe',\n",
       " 'Mauritius\\t53\\t0\\tafrica\\tsubsaharan africa',\n",
       " 'Saudi Arabia\\t53\\t10\\tasia\\tmiddleast',\n",
       " 'Guinea-Bissau\\t19\\t0\\tafrica\\tsubsaharan africa',\n",
       " 'Malaysia\\t51\\t3\\tasia\\tsouth east asia',\n",
       " 'Namibia\\t51\\t2\\tafrica\\tsubsaharan africa',\n",
       " 'Greece\\t50\\t3\\teurope\\teastern europe',\n",
       " 'Armenia\\t49\\t2\\teurope\\tmiddleast',\n",
       " 'Jordan\\t49\\t2\\tasia\\tmiddleast',\n",
       " 'Belarus\\t47\\t6\\teurope\\teastern europe',\n",
       " 'Croatia\\t47\\t5\\teurope\\teastern europe',\n",
       " 'Cuba\\t47\\t4\\tnorth america\\tcaribbean',\n",
       " 'São Tomé and Príncipe\\t47\\t4\\tafrica\\tsubsaharan africa',\n",
       " 'Montenegro\\t45\\t4\\teurope\\teastern europe',\n",
       " 'Senegal\\t45\\t11\\tafrica\\tsubsaharan africa',\n",
       " 'Bulgaria\\t44\\t20\\teurope\\teastern europe',\n",
       " 'Hungary\\t44\\t2\\teurope\\teastern europe',\n",
       " 'Jamaica\\t44\\t0\\tnorth america\\tcaribbean',\n",
       " 'Romania\\t44\\t13\\teurope\\teastern europe',\n",
       " 'South Africa\\t44\\t1\\tafrica\\tsubsaharan africa',\n",
       " 'Tunisia\\t44\\t8\\tafrica\\tmiddleast',\n",
       " 'Ghana\\t43\\t15\\tafrica\\tsubsaharan africa',\n",
       " 'Maldives\\t43\\t6\\tasia\\tsouthern asia',\n",
       " 'Vanuatu\\t43\\t2\\toceania\\toceania',\n",
       " 'Argentina\\t42\\t6\\tsouth america\\tlatin america',\n",
       " 'Bahrain\\t42\\t0\\tasia\\tmiddleast',\n",
       " 'Kuwait\\t42\\t0\\tasia\\tmiddleast',\n",
       " 'Solomon Islands\\t42\\t3\\toceania\\toceania',\n",
       " 'Benin\\t41\\t2\\tafrica\\tsubsaharan africa',\n",
       " 'Guyana\\t41\\t0\\tsouth america\\tlatin america',\n",
       " 'Lesotho\\t41\\t0\\tafrica\\tsubsaharan africa',\n",
       " 'Burkina Faso\\t40\\t2\\tafrica\\tsubsaharan africa',\n",
       " 'India\\t40\\t5\\tasia\\tsouthern asia',\n",
       " 'Morocco\\t40\\t0\\tafrica\\tmiddleast',\n",
       " 'Colombia\\t39\\t2\\tsouth america\\tlatin america',\n",
       " 'Ecuador\\t39\\t2\\tsouth america\\tlatin america',\n",
       " 'Brazil\\t38\\t14\\tsouth america\\tlatin america',\n",
       " 'Ethiopia\\t38\\t4\\tafrica\\tsubsaharan africa',\n",
       " 'Kazakhstan\\t38\\t11\\teurope\\tcentral asia',\n",
       " 'Peru\\t38\\t4\\tsouth america\\tlatin america',\n",
       " 'Serbia\\t38\\t2\\teurope\\teastern europe',\n",
       " 'Sri Lanka\\t38\\t4\\tasia\\tsouthern asia',\n",
       " 'Suriname\\t38\\t1\\tsouth america\\tlatin america',\n",
       " 'Tanzania\\t38\\t1\\tafrica\\tsubsaharan africa',\n",
       " 'Indonesia\\t37\\t5\\tasia\\tsouth east asia',\n",
       " 'Albania\\t36\\t1\\teurope\\teastern europe',\n",
       " 'Algeria\\t36\\t1\\tafrica\\tmiddleast',\n",
       " 'Ivory Coast\\t36\\t3\\tafrica\\tsubsaharan africa',\n",
       " 'El Salvador\\t36\\t8\\tnorth america\\tlatin america',\n",
       " 'Kosovo\\t36\\t3\\teurope\\teastern europe',\n",
       " 'Thailand\\t36\\t1\\tasia\\tsouth east asia',\n",
       " 'Vietnam\\t36\\t3\\tasia\\tsouth east asia',\n",
       " 'Bosnia and Herzegovina\\t35\\t2\\teurope\\teastern europe',\n",
       " 'Mongolia\\t35\\t1\\tasia\\teast asia',\n",
       " 'Macedonia\\t35\\t0\\teurope\\teastern europe',\n",
       " 'Panama\\t35\\t5\\tnorth america\\tlatin america',\n",
       " 'Moldova\\t34\\t2\\teurope\\teastern europe',\n",
       " 'Philippines\\t34\\t9\\tasia\\tsouth east asia',\n",
       " 'Egypt\\t33\\t7\\tafrica\\tmiddleast',\n",
       " 'Eswatini\\t33\\t0\\tafrica\\tsubsaharan africa',\n",
       " 'Nepal\\t33\\t5\\tasia\\tsouthern asia',\n",
       " 'Sierra Leone\\t33\\t9\\tafrica\\tsubsaharan africa',\n",
       " 'Ukraine\\t33\\t14\\teurope\\teastern europe',\n",
       " 'Zambia\\t33\\t6\\tafrica\\tsubsaharan africa',\n",
       " 'Niger\\t32\\t4\\tafrica\\tsubsaharan africa',\n",
       " 'Bolivia\\t31\\t3\\tsouth america\\tlatin america',\n",
       " 'Kenya\\t31\\t20\\tafrica\\tsubsaharan africa',\n",
       " 'Kyrgyzstan\\t31\\t8\\tasia\\tcentral asia',\n",
       " 'Mexico\\t31\\t5\\tnorth america\\tlatin america',\n",
       " 'Pakistan\\t31\\t5\\tasia\\tsouthern asia',\n",
       " 'Azerbaijan\\t30\\t4\\teurope\\tmiddleast',\n",
       " 'Gabon\\t30\\t3\\tafrica\\tsubsaharan africa',\n",
       " 'Trinidad and Tobago\\t40\\t2\\tnorth america\\tcaribbean',\n",
       " 'Malawi\\t30\\t8\\tafrica\\tsubsaharan africa',\n",
       " 'Mali\\t30\\t1\\tafrica\\tsubsaharan africa',\n",
       " 'Russia\\t30\\t17\\tasia\\teastern europe',\n",
       " 'Laos\\t29\\t0\\tasia\\tsouth east asia',\n",
       " 'Mauritania\\t29\\t1\\tafrica\\tsubsaharan africa',\n",
       " 'Togo\\t29\\t3\\tafrica\\tsubsaharan africa',\n",
       " 'Dominican Republic\\t28\\t4\\tnorth america\\tcaribbean',\n",
       " 'Guinea\\t28\\t3\\tafrica\\tsubsaharan africa',\n",
       " 'Liberia\\t28\\t17\\tafrica\\tsubsaharan africa',\n",
       " 'Myanmar\\t28\\t6\\tN/A\\tsouth east asia',\n",
       " 'Paraguay\\t28\\t2\\tsouth america\\tlatin america',\n",
       " 'Angola\\t27\\t8\\tafrica\\tsubsaharan africa',\n",
       " 'China\\t42\\t4\\tasia\\teast asia',\n",
       " 'Slovenia\\t60\\t1\\teurope\\teastern europe',\n",
       " 'Djibouti\\t27\\t0\\tafrica\\tsubsaharan africa',\n",
       " 'Papua New Guinea\\t27\\t4\\toceania\\toceania',\n",
       " 'Uganda\\t27\\t16\\tafrica\\tsubsaharan africa',\n",
       " 'Bangladesh\\t26\\t19\\tasia\\tsouthern asia',\n",
       " 'Central African Republic\\t26\\t1\\tN/A\\tsubsaharan africa',\n",
       " 'Uzbekistan\\t26\\t9\\tasia\\tcentral asia',\n",
       " 'Cameroon\\t25\\t16\\tafrica\\tsubsaharan africa',\n",
       " 'Guatemala\\t25\\t7\\tnorth america\\tlatin america',\n",
       " 'Iran\\t25\\t4\\tasia\\tsouthern asia',\n",
       " 'Lebanon\\t25\\t3\\tasia\\tmiddleast',\n",
       " 'Madagascar\\t25\\t7\\tafrica\\tsubsaharan africa',\n",
       " 'Mozambique\\t25\\t12\\tafrica\\tsubsaharan africa',\n",
       " 'Nigeria\\t25\\t18\\tafrica\\tsubsaharan africa',\n",
       " 'Tajikistan\\t25\\t2\\tasia\\tcentral asia',\n",
       " 'Honduras\\t24\\t0\\tnorth america\\tlatin america',\n",
       " 'Zimbabwe\\t24\\t4\\tafrica\\tsubsaharan africa',\n",
       " 'Nicaragua\\t22\\t6\\tnorth america\\tlatin america',\n",
       " 'Cambodia\\t21\\t18\\tasia\\tsouth east asia',\n",
       " 'Chad\\t21\\t7\\tafrica\\tsubsaharan africa',\n",
       " 'Comoros\\t21\\t0\\tafrica\\tsubsaharan africa',\n",
       " 'Turkey\\t40\\t1\\teurope\\tmiddleast',\n",
       " 'Eritrea\\t21\\t0\\tafrica\\tsubsaharan africa',\n",
       " 'Iraq\\t21\\t8\\tasia\\tmiddleast',\n",
       " 'Afghanistan\\t19\\t4\\tasia\\tsouthern asia',\n",
       " 'Burundi\\t19\\t2\\tafrica\\tsubsaharan africa',\n",
       " 'Turkmenistan\\t19\\t2\\tasia\\tcentral asia',\n",
       " 'Democratic Republic of the Congo\\t18\\t15\\tN/A\\tsubsaharan africa',\n",
       " 'Haiti\\t18\\t11\\tnorth america\\tcaribbean',\n",
       " 'North Korea\\t18\\t0\\tN/A\\teast asia',\n",
       " 'Libya\\t17\\t0\\tafrica\\tmiddleast',\n",
       " 'Equatorial Guinea\\t16\\t2\\tafrica\\tsubsaharan africa',\n",
       " 'Sudan\\t16\\t6\\tafrica\\tsubsaharan africa',\n",
       " 'Canada\\t77\\t1\\tnorth america\\tNorth America',\n",
       " 'Slovakia\\t49\\t2\\teurope\\teastern europe',\n",
       " 'Venezuela\\t15\\t22\\tsouth america\\tlatin america',\n",
       " 'Yemen\\t15\\t7\\tasia\\tmiddleast',\n",
       " 'Syria\\t14\\t2\\tasia\\tmiddleast',\n",
       " 'Somalia\\t12\\t5\\tafrica\\tsubsaharan africa',\n",
       " 'South Sudan\\t12\\t1\\tafrica\\tsubsaharan africa']"
      ]
     },
     "execution_count": 8,
     "metadata": {},
     "output_type": "execute_result"
    }
   ],
   "source": [
    "makelist"
   ]
  },
  {
   "cell_type": "code",
   "execution_count": 12,
   "metadata": {},
   "outputs": [],
   "source": [
    "df = pd.DataFrame([sub.split(\"\\t\") for sub in makelist])"
   ]
  },
  {
   "cell_type": "code",
   "execution_count": 14,
   "metadata": {},
   "outputs": [],
   "source": [
    "df.columns = ['country', 'CPI', 'wiki', 'continent', 'region']"
   ]
  },
  {
   "cell_type": "code",
   "execution_count": 15,
   "metadata": {},
   "outputs": [
    {
     "data": {
      "text/html": [
       "<div>\n",
       "<style scoped>\n",
       "    .dataframe tbody tr th:only-of-type {\n",
       "        vertical-align: middle;\n",
       "    }\n",
       "\n",
       "    .dataframe tbody tr th {\n",
       "        vertical-align: top;\n",
       "    }\n",
       "\n",
       "    .dataframe thead th {\n",
       "        text-align: right;\n",
       "    }\n",
       "</style>\n",
       "<table border=\"1\" class=\"dataframe\">\n",
       "  <thead>\n",
       "    <tr style=\"text-align: right;\">\n",
       "      <th></th>\n",
       "      <th>country</th>\n",
       "      <th>CPI</th>\n",
       "      <th>wiki</th>\n",
       "      <th>continent</th>\n",
       "      <th>region</th>\n",
       "    </tr>\n",
       "  </thead>\n",
       "  <tbody>\n",
       "    <tr>\n",
       "      <td>0</td>\n",
       "      <td>Denmark</td>\n",
       "      <td>88</td>\n",
       "      <td>0</td>\n",
       "      <td>europe</td>\n",
       "      <td>western europe</td>\n",
       "    </tr>\n",
       "    <tr>\n",
       "      <td>1</td>\n",
       "      <td>New Zealand</td>\n",
       "      <td>88</td>\n",
       "      <td>2</td>\n",
       "      <td>oceania</td>\n",
       "      <td>oceania</td>\n",
       "    </tr>\n",
       "    <tr>\n",
       "      <td>2</td>\n",
       "      <td>Finland</td>\n",
       "      <td>85</td>\n",
       "      <td>7</td>\n",
       "      <td>europe</td>\n",
       "      <td>western europe</td>\n",
       "    </tr>\n",
       "    <tr>\n",
       "      <td>3</td>\n",
       "      <td>Singapore</td>\n",
       "      <td>85</td>\n",
       "      <td>6</td>\n",
       "      <td>asia</td>\n",
       "      <td>south east asia</td>\n",
       "    </tr>\n",
       "    <tr>\n",
       "      <td>4</td>\n",
       "      <td>Sweden</td>\n",
       "      <td>85</td>\n",
       "      <td>0</td>\n",
       "      <td>europe</td>\n",
       "      <td>western europe</td>\n",
       "    </tr>\n",
       "    <tr>\n",
       "      <td>...</td>\n",
       "      <td>...</td>\n",
       "      <td>...</td>\n",
       "      <td>...</td>\n",
       "      <td>...</td>\n",
       "      <td>...</td>\n",
       "    </tr>\n",
       "    <tr>\n",
       "      <td>166</td>\n",
       "      <td>Venezuela</td>\n",
       "      <td>15</td>\n",
       "      <td>22</td>\n",
       "      <td>south america</td>\n",
       "      <td>latin america</td>\n",
       "    </tr>\n",
       "    <tr>\n",
       "      <td>167</td>\n",
       "      <td>Yemen</td>\n",
       "      <td>15</td>\n",
       "      <td>7</td>\n",
       "      <td>asia</td>\n",
       "      <td>middleast</td>\n",
       "    </tr>\n",
       "    <tr>\n",
       "      <td>168</td>\n",
       "      <td>Syria</td>\n",
       "      <td>14</td>\n",
       "      <td>2</td>\n",
       "      <td>asia</td>\n",
       "      <td>middleast</td>\n",
       "    </tr>\n",
       "    <tr>\n",
       "      <td>169</td>\n",
       "      <td>Somalia</td>\n",
       "      <td>12</td>\n",
       "      <td>5</td>\n",
       "      <td>africa</td>\n",
       "      <td>subsaharan africa</td>\n",
       "    </tr>\n",
       "    <tr>\n",
       "      <td>170</td>\n",
       "      <td>South Sudan</td>\n",
       "      <td>12</td>\n",
       "      <td>1</td>\n",
       "      <td>africa</td>\n",
       "      <td>subsaharan africa</td>\n",
       "    </tr>\n",
       "  </tbody>\n",
       "</table>\n",
       "<p>171 rows × 5 columns</p>\n",
       "</div>"
      ],
      "text/plain": [
       "         country CPI wiki      continent             region\n",
       "0        Denmark  88    0         europe     western europe\n",
       "1    New Zealand  88    2        oceania            oceania\n",
       "2        Finland  85    7         europe     western europe\n",
       "3      Singapore  85    6           asia    south east asia\n",
       "4         Sweden  85    0         europe     western europe\n",
       "..           ...  ..  ...            ...                ...\n",
       "166    Venezuela  15   22  south america      latin america\n",
       "167        Yemen  15    7           asia          middleast\n",
       "168        Syria  14    2           asia          middleast\n",
       "169      Somalia  12    5         africa  subsaharan africa\n",
       "170  South Sudan  12    1         africa  subsaharan africa\n",
       "\n",
       "[171 rows x 5 columns]"
      ]
     },
     "execution_count": 15,
     "metadata": {},
     "output_type": "execute_result"
    }
   ],
   "source": [
    "df"
   ]
  },
  {
   "cell_type": "code",
   "execution_count": 17,
   "metadata": {},
   "outputs": [
    {
     "data": {
      "text/plain": [
       "0      88\n",
       "1      88\n",
       "2      85\n",
       "3      85\n",
       "4      85\n",
       "       ..\n",
       "166    15\n",
       "167    15\n",
       "168    14\n",
       "169    12\n",
       "170    12\n",
       "Name: CPI, Length: 171, dtype: int64"
      ]
     },
     "execution_count": 17,
     "metadata": {},
     "output_type": "execute_result"
    }
   ],
   "source": [
    "pd.to_numeric(df['CPI'], errors='coerce')"
   ]
  },
  {
   "cell_type": "code",
   "execution_count": 18,
   "metadata": {},
   "outputs": [
    {
     "data": {
      "text/plain": [
       "0       0\n",
       "1       2\n",
       "2       7\n",
       "3       6\n",
       "4       0\n",
       "       ..\n",
       "166    22\n",
       "167     7\n",
       "168     2\n",
       "169     5\n",
       "170     1\n",
       "Name: wiki, Length: 171, dtype: int64"
      ]
     },
     "execution_count": 18,
     "metadata": {},
     "output_type": "execute_result"
    }
   ],
   "source": [
    "pd.to_numeric(df['wiki'], errors='coerce')"
   ]
  },
  {
   "cell_type": "code",
   "execution_count": 30,
   "metadata": {},
   "outputs": [
    {
     "data": {
      "text/plain": [
       "country             Finland\n",
       "CPI                      85\n",
       "wiki                      7\n",
       "continent            europe\n",
       "region       western europe\n",
       "Name: 2, dtype: object"
      ]
     },
     "execution_count": 30,
     "metadata": {},
     "output_type": "execute_result"
    }
   ],
   "source": [
    "(df.loc[2])"
   ]
  },
  {
   "cell_type": "code",
   "execution_count": 31,
   "metadata": {},
   "outputs": [
    {
     "ename": "TypeError",
     "evalue": "unsupported operand type(s) for /: 'str' and 'int'",
     "output_type": "error",
     "traceback": [
      "\u001b[0;31m---------------------------------------------------------------------------\u001b[0m",
      "\u001b[0;31mTypeError\u001b[0m                                 Traceback (most recent call last)",
      "\u001b[0;32m<ipython-input-31-e1149a038eb9>\u001b[0m in \u001b[0;36m<module>\u001b[0;34m\u001b[0m\n\u001b[0;32m----> 1\u001b[0;31m \u001b[0mdf\u001b[0m\u001b[0;34m[\u001b[0m\u001b[0;34m\"CPI\"\u001b[0m\u001b[0;34m]\u001b[0m\u001b[0;34m.\u001b[0m\u001b[0mcorr\u001b[0m\u001b[0;34m(\u001b[0m\u001b[0mdf\u001b[0m\u001b[0;34m[\u001b[0m\u001b[0;34m\"wiki\"\u001b[0m\u001b[0;34m]\u001b[0m\u001b[0;34m)\u001b[0m\u001b[0;34m\u001b[0m\u001b[0;34m\u001b[0m\u001b[0m\n\u001b[0m",
      "\u001b[0;32m~/opt/anaconda3/lib/python3.7/site-packages/pandas/core/series.py\u001b[0m in \u001b[0;36mcorr\u001b[0;34m(self, other, method, min_periods)\u001b[0m\n\u001b[1;32m   2450\u001b[0m         \u001b[0;32mif\u001b[0m \u001b[0mmethod\u001b[0m \u001b[0;32min\u001b[0m \u001b[0;34m[\u001b[0m\u001b[0;34m\"pearson\"\u001b[0m\u001b[0;34m,\u001b[0m \u001b[0;34m\"spearman\"\u001b[0m\u001b[0;34m,\u001b[0m \u001b[0;34m\"kendall\"\u001b[0m\u001b[0;34m]\u001b[0m \u001b[0;32mor\u001b[0m \u001b[0mcallable\u001b[0m\u001b[0;34m(\u001b[0m\u001b[0mmethod\u001b[0m\u001b[0;34m)\u001b[0m\u001b[0;34m:\u001b[0m\u001b[0;34m\u001b[0m\u001b[0;34m\u001b[0m\u001b[0m\n\u001b[1;32m   2451\u001b[0m             return nanops.nancorr(\n\u001b[0;32m-> 2452\u001b[0;31m                 \u001b[0mthis\u001b[0m\u001b[0;34m.\u001b[0m\u001b[0mvalues\u001b[0m\u001b[0;34m,\u001b[0m \u001b[0mother\u001b[0m\u001b[0;34m.\u001b[0m\u001b[0mvalues\u001b[0m\u001b[0;34m,\u001b[0m \u001b[0mmethod\u001b[0m\u001b[0;34m=\u001b[0m\u001b[0mmethod\u001b[0m\u001b[0;34m,\u001b[0m \u001b[0mmin_periods\u001b[0m\u001b[0;34m=\u001b[0m\u001b[0mmin_periods\u001b[0m\u001b[0;34m\u001b[0m\u001b[0;34m\u001b[0m\u001b[0m\n\u001b[0m\u001b[1;32m   2453\u001b[0m             )\n\u001b[1;32m   2454\u001b[0m \u001b[0;34m\u001b[0m\u001b[0m\n",
      "\u001b[0;32m~/opt/anaconda3/lib/python3.7/site-packages/pandas/core/nanops.py\u001b[0m in \u001b[0;36m_f\u001b[0;34m(*args, **kwargs)\u001b[0m\n\u001b[1;32m     68\u001b[0m             \u001b[0;32mtry\u001b[0m\u001b[0;34m:\u001b[0m\u001b[0;34m\u001b[0m\u001b[0;34m\u001b[0m\u001b[0m\n\u001b[1;32m     69\u001b[0m                 \u001b[0;32mwith\u001b[0m \u001b[0mnp\u001b[0m\u001b[0;34m.\u001b[0m\u001b[0merrstate\u001b[0m\u001b[0;34m(\u001b[0m\u001b[0minvalid\u001b[0m\u001b[0;34m=\u001b[0m\u001b[0;34m\"ignore\"\u001b[0m\u001b[0;34m)\u001b[0m\u001b[0;34m:\u001b[0m\u001b[0;34m\u001b[0m\u001b[0;34m\u001b[0m\u001b[0m\n\u001b[0;32m---> 70\u001b[0;31m                     \u001b[0;32mreturn\u001b[0m \u001b[0mf\u001b[0m\u001b[0;34m(\u001b[0m\u001b[0;34m*\u001b[0m\u001b[0margs\u001b[0m\u001b[0;34m,\u001b[0m \u001b[0;34m**\u001b[0m\u001b[0mkwargs\u001b[0m\u001b[0;34m)\u001b[0m\u001b[0;34m\u001b[0m\u001b[0;34m\u001b[0m\u001b[0m\n\u001b[0m\u001b[1;32m     71\u001b[0m             \u001b[0;32mexcept\u001b[0m \u001b[0mValueError\u001b[0m \u001b[0;32mas\u001b[0m \u001b[0me\u001b[0m\u001b[0;34m:\u001b[0m\u001b[0;34m\u001b[0m\u001b[0;34m\u001b[0m\u001b[0m\n\u001b[1;32m     72\u001b[0m                 \u001b[0;31m# we want to transform an object array\u001b[0m\u001b[0;34m\u001b[0m\u001b[0;34m\u001b[0m\u001b[0;34m\u001b[0m\u001b[0m\n",
      "\u001b[0;32m~/opt/anaconda3/lib/python3.7/site-packages/pandas/core/nanops.py\u001b[0m in \u001b[0;36mnancorr\u001b[0;34m(a, b, method, min_periods)\u001b[0m\n\u001b[1;32m   1244\u001b[0m \u001b[0;34m\u001b[0m\u001b[0m\n\u001b[1;32m   1245\u001b[0m     \u001b[0mf\u001b[0m \u001b[0;34m=\u001b[0m \u001b[0mget_corr_func\u001b[0m\u001b[0;34m(\u001b[0m\u001b[0mmethod\u001b[0m\u001b[0;34m)\u001b[0m\u001b[0;34m\u001b[0m\u001b[0;34m\u001b[0m\u001b[0m\n\u001b[0;32m-> 1246\u001b[0;31m     \u001b[0;32mreturn\u001b[0m \u001b[0mf\u001b[0m\u001b[0;34m(\u001b[0m\u001b[0ma\u001b[0m\u001b[0;34m,\u001b[0m \u001b[0mb\u001b[0m\u001b[0;34m)\u001b[0m\u001b[0;34m\u001b[0m\u001b[0;34m\u001b[0m\u001b[0m\n\u001b[0m\u001b[1;32m   1247\u001b[0m \u001b[0;34m\u001b[0m\u001b[0m\n\u001b[1;32m   1248\u001b[0m \u001b[0;34m\u001b[0m\u001b[0m\n",
      "\u001b[0;32m~/opt/anaconda3/lib/python3.7/site-packages/pandas/core/nanops.py\u001b[0m in \u001b[0;36m_pearson\u001b[0;34m(a, b)\u001b[0m\n\u001b[1;32m   1254\u001b[0m \u001b[0;34m\u001b[0m\u001b[0m\n\u001b[1;32m   1255\u001b[0m     \u001b[0;32mdef\u001b[0m \u001b[0m_pearson\u001b[0m\u001b[0;34m(\u001b[0m\u001b[0ma\u001b[0m\u001b[0;34m,\u001b[0m \u001b[0mb\u001b[0m\u001b[0;34m)\u001b[0m\u001b[0;34m:\u001b[0m\u001b[0;34m\u001b[0m\u001b[0;34m\u001b[0m\u001b[0m\n\u001b[0;32m-> 1256\u001b[0;31m         \u001b[0;32mreturn\u001b[0m \u001b[0mnp\u001b[0m\u001b[0;34m.\u001b[0m\u001b[0mcorrcoef\u001b[0m\u001b[0;34m(\u001b[0m\u001b[0ma\u001b[0m\u001b[0;34m,\u001b[0m \u001b[0mb\u001b[0m\u001b[0;34m)\u001b[0m\u001b[0;34m[\u001b[0m\u001b[0;36m0\u001b[0m\u001b[0;34m,\u001b[0m \u001b[0;36m1\u001b[0m\u001b[0;34m]\u001b[0m\u001b[0;34m\u001b[0m\u001b[0;34m\u001b[0m\u001b[0m\n\u001b[0m\u001b[1;32m   1257\u001b[0m \u001b[0;34m\u001b[0m\u001b[0m\n\u001b[1;32m   1258\u001b[0m     \u001b[0;32mdef\u001b[0m \u001b[0m_kendall\u001b[0m\u001b[0;34m(\u001b[0m\u001b[0ma\u001b[0m\u001b[0;34m,\u001b[0m \u001b[0mb\u001b[0m\u001b[0;34m)\u001b[0m\u001b[0;34m:\u001b[0m\u001b[0;34m\u001b[0m\u001b[0;34m\u001b[0m\u001b[0m\n",
      "\u001b[0;32m<__array_function__ internals>\u001b[0m in \u001b[0;36mcorrcoef\u001b[0;34m(*args, **kwargs)\u001b[0m\n",
      "\u001b[0;32m~/opt/anaconda3/lib/python3.7/site-packages/numpy/lib/function_base.py\u001b[0m in \u001b[0;36mcorrcoef\u001b[0;34m(x, y, rowvar, bias, ddof)\u001b[0m\n\u001b[1;32m   2524\u001b[0m         warnings.warn('bias and ddof have no effect and are deprecated',\n\u001b[1;32m   2525\u001b[0m                       DeprecationWarning, stacklevel=3)\n\u001b[0;32m-> 2526\u001b[0;31m     \u001b[0mc\u001b[0m \u001b[0;34m=\u001b[0m \u001b[0mcov\u001b[0m\u001b[0;34m(\u001b[0m\u001b[0mx\u001b[0m\u001b[0;34m,\u001b[0m \u001b[0my\u001b[0m\u001b[0;34m,\u001b[0m \u001b[0mrowvar\u001b[0m\u001b[0;34m)\u001b[0m\u001b[0;34m\u001b[0m\u001b[0;34m\u001b[0m\u001b[0m\n\u001b[0m\u001b[1;32m   2527\u001b[0m     \u001b[0;32mtry\u001b[0m\u001b[0;34m:\u001b[0m\u001b[0;34m\u001b[0m\u001b[0;34m\u001b[0m\u001b[0m\n\u001b[1;32m   2528\u001b[0m         \u001b[0md\u001b[0m \u001b[0;34m=\u001b[0m \u001b[0mdiag\u001b[0m\u001b[0;34m(\u001b[0m\u001b[0mc\u001b[0m\u001b[0;34m)\u001b[0m\u001b[0;34m\u001b[0m\u001b[0;34m\u001b[0m\u001b[0m\n",
      "\u001b[0;32m<__array_function__ internals>\u001b[0m in \u001b[0;36mcov\u001b[0;34m(*args, **kwargs)\u001b[0m\n",
      "\u001b[0;32m~/opt/anaconda3/lib/python3.7/site-packages/numpy/lib/function_base.py\u001b[0m in \u001b[0;36mcov\u001b[0;34m(m, y, rowvar, bias, ddof, fweights, aweights)\u001b[0m\n\u001b[1;32m   2429\u001b[0m             \u001b[0mw\u001b[0m \u001b[0;34m*=\u001b[0m \u001b[0maweights\u001b[0m\u001b[0;34m\u001b[0m\u001b[0;34m\u001b[0m\u001b[0m\n\u001b[1;32m   2430\u001b[0m \u001b[0;34m\u001b[0m\u001b[0m\n\u001b[0;32m-> 2431\u001b[0;31m     \u001b[0mavg\u001b[0m\u001b[0;34m,\u001b[0m \u001b[0mw_sum\u001b[0m \u001b[0;34m=\u001b[0m \u001b[0maverage\u001b[0m\u001b[0;34m(\u001b[0m\u001b[0mX\u001b[0m\u001b[0;34m,\u001b[0m \u001b[0maxis\u001b[0m\u001b[0;34m=\u001b[0m\u001b[0;36m1\u001b[0m\u001b[0;34m,\u001b[0m \u001b[0mweights\u001b[0m\u001b[0;34m=\u001b[0m\u001b[0mw\u001b[0m\u001b[0;34m,\u001b[0m \u001b[0mreturned\u001b[0m\u001b[0;34m=\u001b[0m\u001b[0;32mTrue\u001b[0m\u001b[0;34m)\u001b[0m\u001b[0;34m\u001b[0m\u001b[0;34m\u001b[0m\u001b[0m\n\u001b[0m\u001b[1;32m   2432\u001b[0m     \u001b[0mw_sum\u001b[0m \u001b[0;34m=\u001b[0m \u001b[0mw_sum\u001b[0m\u001b[0;34m[\u001b[0m\u001b[0;36m0\u001b[0m\u001b[0;34m]\u001b[0m\u001b[0;34m\u001b[0m\u001b[0;34m\u001b[0m\u001b[0m\n\u001b[1;32m   2433\u001b[0m \u001b[0;34m\u001b[0m\u001b[0m\n",
      "\u001b[0;32m<__array_function__ internals>\u001b[0m in \u001b[0;36maverage\u001b[0;34m(*args, **kwargs)\u001b[0m\n",
      "\u001b[0;32m~/opt/anaconda3/lib/python3.7/site-packages/numpy/lib/function_base.py\u001b[0m in \u001b[0;36maverage\u001b[0;34m(a, axis, weights, returned)\u001b[0m\n\u001b[1;32m    388\u001b[0m \u001b[0;34m\u001b[0m\u001b[0m\n\u001b[1;32m    389\u001b[0m     \u001b[0;32mif\u001b[0m \u001b[0mweights\u001b[0m \u001b[0;32mis\u001b[0m \u001b[0;32mNone\u001b[0m\u001b[0;34m:\u001b[0m\u001b[0;34m\u001b[0m\u001b[0;34m\u001b[0m\u001b[0m\n\u001b[0;32m--> 390\u001b[0;31m         \u001b[0mavg\u001b[0m \u001b[0;34m=\u001b[0m \u001b[0ma\u001b[0m\u001b[0;34m.\u001b[0m\u001b[0mmean\u001b[0m\u001b[0;34m(\u001b[0m\u001b[0maxis\u001b[0m\u001b[0;34m)\u001b[0m\u001b[0;34m\u001b[0m\u001b[0;34m\u001b[0m\u001b[0m\n\u001b[0m\u001b[1;32m    391\u001b[0m         \u001b[0mscl\u001b[0m \u001b[0;34m=\u001b[0m \u001b[0mavg\u001b[0m\u001b[0;34m.\u001b[0m\u001b[0mdtype\u001b[0m\u001b[0;34m.\u001b[0m\u001b[0mtype\u001b[0m\u001b[0;34m(\u001b[0m\u001b[0ma\u001b[0m\u001b[0;34m.\u001b[0m\u001b[0msize\u001b[0m\u001b[0;34m/\u001b[0m\u001b[0mavg\u001b[0m\u001b[0;34m.\u001b[0m\u001b[0msize\u001b[0m\u001b[0;34m)\u001b[0m\u001b[0;34m\u001b[0m\u001b[0;34m\u001b[0m\u001b[0m\n\u001b[1;32m    392\u001b[0m     \u001b[0;32melse\u001b[0m\u001b[0;34m:\u001b[0m\u001b[0;34m\u001b[0m\u001b[0;34m\u001b[0m\u001b[0m\n",
      "\u001b[0;32m~/opt/anaconda3/lib/python3.7/site-packages/numpy/core/_methods.py\u001b[0m in \u001b[0;36m_mean\u001b[0;34m(a, axis, dtype, out, keepdims)\u001b[0m\n\u001b[1;32m    152\u001b[0m     \u001b[0;32mif\u001b[0m \u001b[0misinstance\u001b[0m\u001b[0;34m(\u001b[0m\u001b[0mret\u001b[0m\u001b[0;34m,\u001b[0m \u001b[0mmu\u001b[0m\u001b[0;34m.\u001b[0m\u001b[0mndarray\u001b[0m\u001b[0;34m)\u001b[0m\u001b[0;34m:\u001b[0m\u001b[0;34m\u001b[0m\u001b[0;34m\u001b[0m\u001b[0m\n\u001b[1;32m    153\u001b[0m         ret = um.true_divide(\n\u001b[0;32m--> 154\u001b[0;31m                 ret, rcount, out=ret, casting='unsafe', subok=False)\n\u001b[0m\u001b[1;32m    155\u001b[0m         \u001b[0;32mif\u001b[0m \u001b[0mis_float16_result\u001b[0m \u001b[0;32mand\u001b[0m \u001b[0mout\u001b[0m \u001b[0;32mis\u001b[0m \u001b[0;32mNone\u001b[0m\u001b[0;34m:\u001b[0m\u001b[0;34m\u001b[0m\u001b[0;34m\u001b[0m\u001b[0m\n\u001b[1;32m    156\u001b[0m             \u001b[0mret\u001b[0m \u001b[0;34m=\u001b[0m \u001b[0marr\u001b[0m\u001b[0;34m.\u001b[0m\u001b[0mdtype\u001b[0m\u001b[0;34m.\u001b[0m\u001b[0mtype\u001b[0m\u001b[0;34m(\u001b[0m\u001b[0mret\u001b[0m\u001b[0;34m)\u001b[0m\u001b[0;34m\u001b[0m\u001b[0;34m\u001b[0m\u001b[0m\n",
      "\u001b[0;31mTypeError\u001b[0m: unsupported operand type(s) for /: 'str' and 'int'"
     ]
    }
   ],
   "source": [
    "df[\"CPI\"].corr(df[\"wiki\"])"
   ]
  },
  {
   "cell_type": "code",
   "execution_count": 41,
   "metadata": {},
   "outputs": [
    {
     "data": {
      "text/plain": [
       "str"
      ]
     },
     "execution_count": 41,
     "metadata": {},
     "output_type": "execute_result"
    }
   ],
   "source": [
    "type(df[\"CPI\"].loc[0])"
   ]
  },
  {
   "cell_type": "code",
   "execution_count": 42,
   "metadata": {},
   "outputs": [],
   "source": [
    "for i in range(0,171):\n",
    "    df[\"P\"] = int(df[\"CPI\"].loc[i])"
   ]
  },
  {
   "cell_type": "code",
   "execution_count": 43,
   "metadata": {},
   "outputs": [
    {
     "data": {
      "text/plain": [
       "0      12\n",
       "1      12\n",
       "2      12\n",
       "3      12\n",
       "4      12\n",
       "       ..\n",
       "166    12\n",
       "167    12\n",
       "168    12\n",
       "169    12\n",
       "170    12\n",
       "Name: P, Length: 171, dtype: int64"
      ]
     },
     "execution_count": 43,
     "metadata": {},
     "output_type": "execute_result"
    }
   ],
   "source": [
    "mean"
   ]
  },
  {
   "cell_type": "code",
   "execution_count": null,
   "metadata": {},
   "outputs": [],
   "source": []
  }
 ],
 "metadata": {
  "kernelspec": {
   "display_name": "Python 3 (ipykernel)",
   "language": "python",
   "name": "python3"
  },
  "language_info": {
   "codemirror_mode": {
    "name": "ipython",
    "version": 3
   },
   "file_extension": ".py",
   "mimetype": "text/x-python",
   "name": "python",
   "nbconvert_exporter": "python",
   "pygments_lexer": "ipython3",
   "version": "3.7.4"
  }
 },
 "nbformat": 4,
 "nbformat_minor": 2
}
